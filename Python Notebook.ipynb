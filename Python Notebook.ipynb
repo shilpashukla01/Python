{
 "cells": [
  {
   "cell_type": "code",
   "execution_count": 11,
   "metadata": {
    "collapsed": false
   },
   "outputs": [
    {
     "name": "stdout",
     "output_type": "stream",
     "text": [
      "[1, 2, 3]\n"
     ]
    }
   ],
   "source": [
    "print eval('[1,2,3]')"
   ]
  },
  {
   "cell_type": "markdown",
   "metadata": {},
   "source": [
    "eval takes a string as input and converts it in Python objects"
   ]
  },
  {
   "cell_type": "code",
   "execution_count": 13,
   "metadata": {
    "collapsed": false
   },
   "outputs": [
    {
     "data": {
      "text/plain": [
       "{'name': 'Shilpa'}"
      ]
     },
     "execution_count": 13,
     "metadata": {},
     "output_type": "execute_result"
    }
   ],
   "source": [
    "eval ('{\\\"name\\\":\\\"Shilpa\\\"}')"
   ]
  },
  {
   "cell_type": "markdown",
   "metadata": {
    "collapsed": false
   },
   "source": [
    "How to read and write Python native objects to file?\n",
    "We would have to convert each object to String while writing and convert them back while reading.\n",
    "Python's pickle module makes this serialization and deserialization task very easy.\n",
    "One could directly write to a Python file after pickling it.\n",
    "And read from the file and get Python object."
   ]
  },
  {
   "cell_type": "code",
   "execution_count": null,
   "metadata": {
    "collapsed": true
   },
   "outputs": [],
   "source": []
  },
  {
   "cell_type": "code",
   "execution_count": 10,
   "metadata": {
    "collapsed": false
   },
   "outputs": [
    {
     "name": "stdout",
     "output_type": "stream",
     "text": [
      "Before writing to file\n",
      "{'name': 'Shilpa'}\n",
      "<type 'dict'>\n",
      "Before writing to file\n",
      "{'name': 'Shilpa'}\n",
      "<type 'dict'>\n"
     ]
    }
   ],
   "source": [
    "import pickle\n",
    "\n",
    "d = {\"name\":\"Shilpa\"}\n",
    "print \"Before writing to file\"\n",
    "print d\n",
    "print type(d)\n",
    "with open(\"filename\", \"wb\") as f:\n",
    "    pickle.dump(d, f)\n",
    "\n",
    "with open(\"filename\", \"rb\") as f:\n",
    "    e = pickle.load(f)\n",
    "\n",
    "    print \"Before writing to file\"\n",
    "    print e\n",
    "    print type(e)"
   ]
  },
  {
   "cell_type": "code",
   "execution_count": 2,
   "metadata": {
    "collapsed": false
   },
   "outputs": [
    {
     "name": "stdout",
     "output_type": "stream",
     "text": [
      "Bye World!\n"
     ]
    }
   ],
   "source": [
    "print \"Bye World!\""
   ]
  },
  {
   "cell_type": "code",
   "execution_count": null,
   "metadata": {
    "collapsed": true
   },
   "outputs": [],
   "source": []
  }
 ],
 "metadata": {
  "kernelspec": {
   "display_name": "Python 2",
   "language": "python",
   "name": "python2"
  },
  "language_info": {
   "codemirror_mode": {
    "name": "ipython",
    "version": 2
   },
   "file_extension": ".py",
   "mimetype": "text/x-python",
   "name": "python",
   "nbconvert_exporter": "python",
   "pygments_lexer": "ipython2",
   "version": "2.7.10"
  }
 },
 "nbformat": 4,
 "nbformat_minor": 0
}
